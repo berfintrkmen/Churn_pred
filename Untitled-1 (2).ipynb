{
 "cells": [
  {
   "cell_type": "code",
   "execution_count": null,
   "metadata": {},
   "outputs": [],
   "source": [
    "Veri setinin alındığı yer:https://www.kaggle.com/datasets/mukeshmanral/churn-prediction-for-credit-card-customer"
   ]
  },
  {
   "cell_type": "code",
   "execution_count": 2,
   "metadata": {},
   "outputs": [],
   "source": [
    "import pandas as pd\n",
    "import numpy as np\n",
    "import matplotlib.pyplot as plt\n",
    "import seaborn as sns\n",
    "churn = pd.read_csv(\"Churn.csv\")\n",
    "df=churn.copy()"
   ]
  },
  {
   "cell_type": "code",
   "execution_count": 3,
   "metadata": {},
   "outputs": [
    {
     "data": {
      "text/html": [
       "<div>\n",
       "<style scoped>\n",
       "    .dataframe tbody tr th:only-of-type {\n",
       "        vertical-align: middle;\n",
       "    }\n",
       "\n",
       "    .dataframe tbody tr th {\n",
       "        vertical-align: top;\n",
       "    }\n",
       "\n",
       "    .dataframe thead th {\n",
       "        text-align: right;\n",
       "    }\n",
       "</style>\n",
       "<table border=\"1\" class=\"dataframe\">\n",
       "  <thead>\n",
       "    <tr style=\"text-align: right;\">\n",
       "      <th></th>\n",
       "      <th>count</th>\n",
       "      <th>mean</th>\n",
       "      <th>std</th>\n",
       "      <th>min</th>\n",
       "      <th>25%</th>\n",
       "      <th>50%</th>\n",
       "      <th>75%</th>\n",
       "      <th>max</th>\n",
       "    </tr>\n",
       "  </thead>\n",
       "  <tbody>\n",
       "    <tr>\n",
       "      <th>CreditScore</th>\n",
       "      <td>10000.0</td>\n",
       "      <td>650.528800</td>\n",
       "      <td>96.653299</td>\n",
       "      <td>350.00</td>\n",
       "      <td>584.00</td>\n",
       "      <td>652.000</td>\n",
       "      <td>718.0000</td>\n",
       "      <td>850.00</td>\n",
       "    </tr>\n",
       "    <tr>\n",
       "      <th>Age</th>\n",
       "      <td>10000.0</td>\n",
       "      <td>38.921800</td>\n",
       "      <td>10.487806</td>\n",
       "      <td>18.00</td>\n",
       "      <td>32.00</td>\n",
       "      <td>37.000</td>\n",
       "      <td>44.0000</td>\n",
       "      <td>92.00</td>\n",
       "    </tr>\n",
       "    <tr>\n",
       "      <th>Tenure</th>\n",
       "      <td>10000.0</td>\n",
       "      <td>5.012800</td>\n",
       "      <td>2.892174</td>\n",
       "      <td>0.00</td>\n",
       "      <td>3.00</td>\n",
       "      <td>5.000</td>\n",
       "      <td>7.0000</td>\n",
       "      <td>10.00</td>\n",
       "    </tr>\n",
       "    <tr>\n",
       "      <th>Balance</th>\n",
       "      <td>10000.0</td>\n",
       "      <td>76485.889288</td>\n",
       "      <td>62397.405202</td>\n",
       "      <td>0.00</td>\n",
       "      <td>0.00</td>\n",
       "      <td>97198.540</td>\n",
       "      <td>127644.2400</td>\n",
       "      <td>250898.09</td>\n",
       "    </tr>\n",
       "    <tr>\n",
       "      <th>NumOfProducts</th>\n",
       "      <td>10000.0</td>\n",
       "      <td>1.530200</td>\n",
       "      <td>0.581654</td>\n",
       "      <td>1.00</td>\n",
       "      <td>1.00</td>\n",
       "      <td>1.000</td>\n",
       "      <td>2.0000</td>\n",
       "      <td>4.00</td>\n",
       "    </tr>\n",
       "    <tr>\n",
       "      <th>HasCrCard</th>\n",
       "      <td>10000.0</td>\n",
       "      <td>0.705500</td>\n",
       "      <td>0.455840</td>\n",
       "      <td>0.00</td>\n",
       "      <td>0.00</td>\n",
       "      <td>1.000</td>\n",
       "      <td>1.0000</td>\n",
       "      <td>1.00</td>\n",
       "    </tr>\n",
       "    <tr>\n",
       "      <th>IsActiveMember</th>\n",
       "      <td>10000.0</td>\n",
       "      <td>0.515100</td>\n",
       "      <td>0.499797</td>\n",
       "      <td>0.00</td>\n",
       "      <td>0.00</td>\n",
       "      <td>1.000</td>\n",
       "      <td>1.0000</td>\n",
       "      <td>1.00</td>\n",
       "    </tr>\n",
       "    <tr>\n",
       "      <th>EstimatedSalary</th>\n",
       "      <td>10000.0</td>\n",
       "      <td>100090.239881</td>\n",
       "      <td>57510.492818</td>\n",
       "      <td>11.58</td>\n",
       "      <td>51002.11</td>\n",
       "      <td>100193.915</td>\n",
       "      <td>149388.2475</td>\n",
       "      <td>199992.48</td>\n",
       "    </tr>\n",
       "    <tr>\n",
       "      <th>Exited</th>\n",
       "      <td>10000.0</td>\n",
       "      <td>0.203700</td>\n",
       "      <td>0.402769</td>\n",
       "      <td>0.00</td>\n",
       "      <td>0.00</td>\n",
       "      <td>0.000</td>\n",
       "      <td>0.0000</td>\n",
       "      <td>1.00</td>\n",
       "    </tr>\n",
       "  </tbody>\n",
       "</table>\n",
       "</div>"
      ],
      "text/plain": [
       "                   count           mean           std     min       25%   \n",
       "CreditScore      10000.0     650.528800     96.653299  350.00    584.00  \\\n",
       "Age              10000.0      38.921800     10.487806   18.00     32.00   \n",
       "Tenure           10000.0       5.012800      2.892174    0.00      3.00   \n",
       "Balance          10000.0   76485.889288  62397.405202    0.00      0.00   \n",
       "NumOfProducts    10000.0       1.530200      0.581654    1.00      1.00   \n",
       "HasCrCard        10000.0       0.705500      0.455840    0.00      0.00   \n",
       "IsActiveMember   10000.0       0.515100      0.499797    0.00      0.00   \n",
       "EstimatedSalary  10000.0  100090.239881  57510.492818   11.58  51002.11   \n",
       "Exited           10000.0       0.203700      0.402769    0.00      0.00   \n",
       "\n",
       "                        50%          75%        max  \n",
       "CreditScore         652.000     718.0000     850.00  \n",
       "Age                  37.000      44.0000      92.00  \n",
       "Tenure                5.000       7.0000      10.00  \n",
       "Balance           97198.540  127644.2400  250898.09  \n",
       "NumOfProducts         1.000       2.0000       4.00  \n",
       "HasCrCard             1.000       1.0000       1.00  \n",
       "IsActiveMember        1.000       1.0000       1.00  \n",
       "EstimatedSalary  100193.915  149388.2475  199992.48  \n",
       "Exited                0.000       0.0000       1.00  "
      ]
     },
     "execution_count": 3,
     "metadata": {},
     "output_type": "execute_result"
    }
   ],
   "source": [
    "df.describe().T"
   ]
  },
  {
   "cell_type": "code",
   "execution_count": 4,
   "metadata": {},
   "outputs": [
    {
     "name": "stdout",
     "output_type": "stream",
     "text": [
      "<class 'pandas.core.frame.DataFrame'>\n",
      "RangeIndex: 10000 entries, 0 to 9999\n",
      "Data columns (total 11 columns):\n",
      " #   Column           Non-Null Count  Dtype  \n",
      "---  ------           --------------  -----  \n",
      " 0   CreditScore      10000 non-null  int64  \n",
      " 1   Geography        10000 non-null  object \n",
      " 2   Gender           10000 non-null  object \n",
      " 3   Age              10000 non-null  int64  \n",
      " 4   Tenure           10000 non-null  int64  \n",
      " 5   Balance          10000 non-null  float64\n",
      " 6   NumOfProducts    10000 non-null  int64  \n",
      " 7   HasCrCard        10000 non-null  int64  \n",
      " 8   IsActiveMember   10000 non-null  int64  \n",
      " 9   EstimatedSalary  10000 non-null  float64\n",
      " 10  Exited           10000 non-null  int64  \n",
      "dtypes: float64(2), int64(7), object(2)\n",
      "memory usage: 859.5+ KB\n"
     ]
    }
   ],
   "source": [
    "df.info()"
   ]
  },
  {
   "cell_type": "code",
   "execution_count": 5,
   "metadata": {},
   "outputs": [
    {
     "name": "stdout",
     "output_type": "stream",
     "text": [
      "Sayısal sütunlar:\n",
      "      CreditScore  Age  Tenure    Balance  NumOfProducts  HasCrCard   \n",
      "0             619   42       2       0.00              1          1  \\\n",
      "1             608   41       1   83807.86              1          0   \n",
      "2             502   42       8  159660.80              3          1   \n",
      "3             699   39       1       0.00              2          0   \n",
      "4             850   43       2  125510.82              1          1   \n",
      "...           ...  ...     ...        ...            ...        ...   \n",
      "9995          771   39       5       0.00              2          1   \n",
      "9996          516   35      10   57369.61              1          1   \n",
      "9997          709   36       7       0.00              1          0   \n",
      "9998          772   42       3   75075.31              2          1   \n",
      "9999          792   28       4  130142.79              1          1   \n",
      "\n",
      "      IsActiveMember  EstimatedSalary  Exited  \n",
      "0                  1        101348.88       1  \n",
      "1                  1        112542.58       0  \n",
      "2                  0        113931.57       1  \n",
      "3                  0         93826.63       0  \n",
      "4                  1         79084.10       0  \n",
      "...              ...              ...     ...  \n",
      "9995               0         96270.64       0  \n",
      "9996               1        101699.77       0  \n",
      "9997               1         42085.58       1  \n",
      "9998               0         92888.52       1  \n",
      "9999               0         38190.78       0  \n",
      "\n",
      "[10000 rows x 9 columns]\n"
     ]
    }
   ],
   "source": [
    "numeric_columns = df.select_dtypes(include=[np.number])\n",
    "print(\"Sayısal sütunlar:\")\n",
    "print(numeric_columns)"
   ]
  },
  {
   "cell_type": "code",
   "execution_count": 6,
   "metadata": {},
   "outputs": [],
   "source": [
    "def plot_histogram(df, column_name):\n",
    "\n",
    "  plt.figure(figsize=(5, 3))\n",
    "  sns.histplot(df[column_name], kde=True)\n",
    "  plt.title(f\"Distribution of {column_name}\")\n",
    "\n",
    "  col_mean = df[column_name].mean()\n",
    "  col_median = df[column_name].median()\n",
    "\n",
    "  \n",
    "  plt.axvline(col_mean, color=\"red\", linestyle=\"--\", label=\"Mean\")\n",
    "  plt.axvline(col_median, color=\"green\", linestyle=\"-\", label=\"Median\")\n",
    "\n",
    "  plt.legend()\n",
    "\n",
    "  plt.show()"
   ]
  },
  {
   "cell_type": "code",
   "execution_count": 9,
   "metadata": {},
   "outputs": [
    {
     "data": {
      "image/png": "[encoded data removed]",
      "text/plain": [
       "<Figure size 1200x1000 with 2 Axes>"
      ]
     },
     "metadata": {},
     "output_type": "display_data"
    }
   ],
   "source": [
    "# En belirgin olarak,\n",
    "# Balance ile Number of Product arasında negatif yönlü 0.3, \n",
    "# 0.5'ten yüksek olmadığı için bu korelasyonları dikkate almadım.\n",
    "\n",
    "plt.figure(figsize=(12,10))\n",
    "numeric_df = df.select_dtypes(include=['float64', 'int64'])\n",
    "cor = numeric_df.corr()\n",
    "sns.heatmap(cor, annot=True, cmap=plt.cm.Reds)\n",
    "plt.show()"
   ]
  },
  {
   "cell_type": "markdown",
   "metadata": {},
   "source": [
    "Exited\n"
   ]
  },
  {
   "cell_type": "code",
   "execution_count": 10,
   "metadata": {},
   "outputs": [
    {
     "data": {
      "text/plain": [
       "Exited\n",
       "0    7963\n",
       "1    2037\n",
       "Name: count, dtype: int64"
      ]
     },
     "execution_count": 10,
     "metadata": {},
     "output_type": "execute_result"
    }
   ],
   "source": [
    "# y bağımlı değişkeni(\"Exited\") inceledim.\n",
    "df[\"Exited\"].value_counts()"
   ]
  },
  {
   "cell_type": "code",
   "execution_count": 11,
   "metadata": {},
   "outputs": [
    {
     "name": "stdout",
     "output_type": "stream",
     "text": [
      "0.20372037203720372\n"
     ]
    },
    {
     "data": {
      "image/png": "[encoded data removed]",
      "text/plain": [
       "<Figure size 640x480 with 1 Axes>"
      ]
     },
     "metadata": {},
     "output_type": "display_data"
    }
   ],
   "source": [
    "import seaborn as sns\n",
    "import matplotlib.pyplot as plt\n",
    "\n",
    "%matplotlib inline\n",
    "# Veri setinde 0-1 dengesi: %20-80\n",
    "print(2037/9999)\n",
    "\n",
    "sns.countplot(x='Exited', data=df, label=\"Count\",palette='viridis');"
   ]
  },
  {
   "cell_type": "code",
   "execution_count": 12,
   "metadata": {},
   "outputs": [
    {
     "name": "stdout",
     "output_type": "stream",
     "text": [
      "Index(['CreditScore', 'Geography', 'Gender', 'Age', 'Tenure', 'Balance',\n",
      "       'NumOfProducts', 'HasCrCard', 'IsActiveMember', 'EstimatedSalary',\n",
      "       'Exited'],\n",
      "      dtype='object')\n"
     ]
    }
   ],
   "source": [
    "print(df.columns)"
   ]
  },
  {
   "cell_type": "code",
   "execution_count": 13,
   "metadata": {},
   "outputs": [
    {
     "name": "stdout",
     "output_type": "stream",
     "text": [
      "   CreditScore  Age  Tenure   Balance  NumOfProducts  HasCrCard   \n",
      "0          619   42       2      0.00              1          1  \\\n",
      "1          608   41       1  83807.86              1          0   \n",
      "\n",
      "   IsActiveMember  EstimatedSalary  Exited  Geography_Germany   \n",
      "0               1        101348.88       1              False  \\\n",
      "1               1        112542.58       0              False   \n",
      "\n",
      "   Geography_Spain  Gender_Male  \n",
      "0            False        False  \n",
      "1             True        False  \n"
     ]
    }
   ],
   "source": [
    "import pandas as pd\n",
    "\n",
    "# Dummy değişkenler için\n",
    "df = pd.get_dummies(df, columns=[\"Geography\", \"Gender\"], drop_first=True)\n",
    "print(df.head(2))"
   ]
  },
  {
   "cell_type": "code",
   "execution_count": 14,
   "metadata": {},
   "outputs": [
    {
     "name": "stdout",
     "output_type": "stream",
     "text": [
      "   CreditScore  Age  Tenure    Balance  NumOfProducts  HasCrCard   \n",
      "0          619   42       2       0.00              1          1  \\\n",
      "1          608   41       1   83807.86              1          0   \n",
      "2          502   42       8  159660.80              3          1   \n",
      "3          699   39       1       0.00              2          0   \n",
      "4          850   43       2  125510.82              1          1   \n",
      "\n",
      "   IsActiveMember  EstimatedSalary  Exited  Geography_Germany   \n",
      "0               1        101348.88       1                  0  \\\n",
      "1               1        112542.58       0                  0   \n",
      "2               0        113931.57       1                  0   \n",
      "3               0         93826.63       0                  0   \n",
      "4               1         79084.10       0                  0   \n",
      "\n",
      "   Geography_Spain  Gender_Male  \n",
      "0                0            0  \n",
      "1                1            0  \n",
      "2                0            0  \n",
      "3                0            0  \n",
      "4                1            0  \n"
     ]
    }
   ],
   "source": [
    "from sklearn.preprocessing import LabelEncoder\n",
    "\n",
    "# LabelEncoder nesnesi oluşturma\n",
    "le = LabelEncoder()\n",
    "\n",
    "# 'Geography_Germany', 'Geography_Spain', 'Gender_Male' sütunlarını LabelEncoder ile dönüştürme\n",
    "df[['Geography_Germany', 'Geography_Spain', 'Gender_Male']] = df[['Geography_Germany', 'Geography_Spain', 'Gender_Male']].apply(le.fit_transform)\n",
    "\n",
    "print(df.head())"
   ]
  },
  {
   "cell_type": "code",
   "execution_count": 15,
   "metadata": {},
   "outputs": [
    {
     "name": "stdout",
     "output_type": "stream",
     "text": [
      "   CreditScore  Age  Tenure    Balance  NumOfProducts  HasCrCard   \n",
      "0          619   42       2       0.00              1          1  \\\n",
      "1          608   41       1   83807.86              1          0   \n",
      "2          502   42       8  159660.80              3          1   \n",
      "3          699   39       1       0.00              2          0   \n",
      "4          850   43       2  125510.82              1          1   \n",
      "\n",
      "   IsActiveMember  EstimatedSalary  Exited  Geography_Germany   \n",
      "0               1        101348.88       1                  0  \\\n",
      "1               1        112542.58       0                  0   \n",
      "2               0        113931.57       1                  0   \n",
      "3               0         93826.63       0                  0   \n",
      "4               1         79084.10       0                  0   \n",
      "\n",
      "   Geography_Spain  Gender_Male  \n",
      "0                0            0  \n",
      "1                1            0  \n",
      "2                0            0  \n",
      "3                0            0  \n",
      "4                1            0  \n"
     ]
    }
   ],
   "source": [
    "# False ve True değerlerini 0 ve 1 olarak değiştirme\n",
    "df[['Geography_Germany', 'Geography_Spain', 'Gender_Male']] = df[['Geography_Germany', 'Geography_Spain', 'Gender_Male']].astype(int)\n",
    "\n",
    "print(df.head())"
   ]
  },
  {
   "cell_type": "code",
   "execution_count": 16,
   "metadata": {},
   "outputs": [
    {
     "name": "stdout",
     "output_type": "stream",
     "text": [
      "Categorical Features : NumOfProducts HasCrCard IsActiveMember Exited Geography_Germany Geography_Spain Gender_Male\n",
      "Numerical Features : CreditScore Age Tenure Balance EstimatedSalary\n"
     ]
    }
   ],
   "source": [
    "col = list(df.columns)\n",
    "categorical_features = []\n",
    "numerical_features = []\n",
    "for i in col:\n",
    "    if len(df[i].unique()) > 6:\n",
    "        numerical_features.append(i)\n",
    "    else:\n",
    "        categorical_features.append(i)\n",
    "\n",
    "print('Categorical Features :',*categorical_features)\n",
    "print('Numerical Features :',*numerical_features)"
   ]
  },
  {
   "cell_type": "markdown",
   "metadata": {},
   "source": [
    "CreditScore\n",
    "\n",
    "Preprocessing kısmında internette belirtilen kredi skorlama tablosuna göre bu değerleri grupladım."
   ]
  },
  {
   "cell_type": "code",
   "execution_count": 17,
   "metadata": {},
   "outputs": [
    {
     "data": {
      "text/plain": [
       "count    10000.000000\n",
       "mean       650.528800\n",
       "std         96.653299\n",
       "min        350.000000\n",
       "25%        584.000000\n",
       "50%        652.000000\n",
       "75%        718.000000\n",
       "max        850.000000\n",
       "Name: CreditScore, dtype: float64"
      ]
     },
     "execution_count": 17,
     "metadata": {},
     "output_type": "execute_result"
    }
   ],
   "source": [
    "df[\"CreditScore\"].describe().T"
   ]
  },
  {
   "cell_type": "code",
   "execution_count": 18,
   "metadata": {},
   "outputs": [
    {
     "data": {
      "image/png": "[encoded data removed]",
      "text/plain": [
       "<Figure size 640x480 with 1 Axes>"
      ]
     },
     "metadata": {},
     "output_type": "display_data"
    }
   ],
   "source": [
    "sns.boxplot(df[\"CreditScore\"],orient='h');\n"
   ]
  },
  {
   "cell_type": "code",
   "execution_count": 19,
   "metadata": {},
   "outputs": [
    {
     "data": {
      "text/html": [
       "<div>\n",
       "<style scoped>\n",
       "    .dataframe tbody tr th:only-of-type {\n",
       "        vertical-align: middle;\n",
       "    }\n",
       "\n",
       "    .dataframe tbody tr th {\n",
       "        vertical-align: top;\n",
       "    }\n",
       "\n",
       "    .dataframe thead th {\n",
       "        text-align: right;\n",
       "    }\n",
       "</style>\n",
       "<table border=\"1\" class=\"dataframe\">\n",
       "  <thead>\n",
       "    <tr style=\"text-align: right;\">\n",
       "      <th></th>\n",
       "      <th>Exited</th>\n",
       "    </tr>\n",
       "    <tr>\n",
       "      <th>Exited</th>\n",
       "      <th></th>\n",
       "    </tr>\n",
       "  </thead>\n",
       "  <tbody>\n",
       "    <tr>\n",
       "      <th>1</th>\n",
       "      <td>21</td>\n",
       "    </tr>\n",
       "  </tbody>\n",
       "</table>\n",
       "</div>"
      ],
      "text/plain": [
       "        Exited\n",
       "Exited        \n",
       "1           21"
      ]
     },
     "execution_count": 19,
     "metadata": {},
     "output_type": "execute_result"
    }
   ],
   "source": [
    "# Kredi skoru 400'ün altında olanların hepsi churn olmuş\n",
    "df[df[\"CreditScore\"]<405].apply({\"Exited\": \"value_counts\"})"
   ]
  },
  {
   "cell_type": "code",
   "execution_count": 20,
   "metadata": {},
   "outputs": [
    {
     "data": {
      "image/png": "[encoded data removed]",
      "text/plain": [
       "<Figure size 500x300 with 1 Axes>"
      ]
     },
     "metadata": {},
     "output_type": "display_data"
    }
   ],
   "source": [
    "plot_histogram(df, \"CreditScore\")"
   ]
  },
  {
   "cell_type": "markdown",
   "metadata": {},
   "source": [
    "Age"
   ]
  },
  {
   "cell_type": "code",
   "execution_count": 21,
   "metadata": {},
   "outputs": [
    {
     "data": {
      "text/plain": [
       "count    10000.000000\n",
       "mean        38.921800\n",
       "std         10.487806\n",
       "min         18.000000\n",
       "25%         32.000000\n",
       "50%         37.000000\n",
       "75%         44.000000\n",
       "max         92.000000\n",
       "Name: Age, dtype: float64"
      ]
     },
     "execution_count": 21,
     "metadata": {},
     "output_type": "execute_result"
    }
   ],
   "source": [
    "df[\"Age\"].describe()"
   ]
  },
  {
   "cell_type": "code",
   "execution_count": 22,
   "metadata": {},
   "outputs": [
    {
     "data": {
      "image/png": "[encoded data removed]",
      "text/plain": [
       "<Figure size 640x480 with 1 Axes>"
      ]
     },
     "metadata": {},
     "output_type": "display_data"
    }
   ],
   "source": [
    "# Outlier lar var gibi görünüyor ancak örneğin 90 yaşında bir müşteri olabilir, bunları atmak istemedim.\n",
    "sns.boxplot(df[\"Age\"],orient='h');"
   ]
  },
  {
   "cell_type": "code",
   "execution_count": 23,
   "metadata": {},
   "outputs": [
    {
     "data": {
      "image/png": "[encoded data removed]",
      "text/plain": [
       "<Figure size 500x300 with 1 Axes>"
      ]
     },
     "metadata": {},
     "output_type": "display_data"
    }
   ],
   "source": [
    "plot_histogram(df, \"Age\")"
   ]
  },
  {
   "cell_type": "markdown",
   "metadata": {},
   "source": [
    "Tenure\n",
    "\n",
    "10 adet ürüne sahip olanlar ve hiç ürüne sahip olmayanların sayısı diğer müşterilere göre daha az."
   ]
  },
  {
   "cell_type": "code",
   "execution_count": 24,
   "metadata": {},
   "outputs": [
    {
     "data": {
      "text/plain": [
       "Tenure\n",
       "2     1048\n",
       "1     1035\n",
       "7     1028\n",
       "8     1025\n",
       "5     1012\n",
       "3     1009\n",
       "4      989\n",
       "9      984\n",
       "6      967\n",
       "10     490\n",
       "0      413\n",
       "Name: count, dtype: int64"
      ]
     },
     "execution_count": 24,
     "metadata": {},
     "output_type": "execute_result"
    }
   ],
   "source": [
    "df[\"Tenure\"].value_counts()"
   ]
  },
  {
   "cell_type": "code",
   "execution_count": 25,
   "metadata": {},
   "outputs": [
    {
     "data": {
      "image/png": "[encoded data removed]",
      "text/plain": [
       "<Figure size 500x300 with 1 Axes>"
      ]
     },
     "metadata": {},
     "output_type": "display_data"
    }
   ],
   "source": [
    "plot_histogram(df, \"Tenure\")"
   ]
  },
  {
   "cell_type": "code",
   "execution_count": 27,
   "metadata": {},
   "outputs": [],
   "source": [
    "def plot_boxplot(df, column_name):\n",
    "\n",
    "  plt.figure(figsize=(5, 3))\n",
    "  sns.boxplot(y=df[column_name])\n",
    "  plt.title(f\"Box Plot of {column_name}\")\n",
    "  plt.ylabel(column_name)\n",
    "  plt.show"
   ]
  },
  {
   "cell_type": "code",
   "execution_count": 28,
   "metadata": {},
   "outputs": [
    {
     "data": {
      "image/png": "[encoded data removed]",
      "text/plain": [
       "<Figure size 500x300 with 1 Axes>"
      ]
     },
     "metadata": {},
     "output_type": "display_data"
    }
   ],
   "source": [
    "plot_boxplot(df, \"Tenure\")"
   ]
  },
  {
   "cell_type": "markdown",
   "metadata": {},
   "source": [
    "Balance"
   ]
  },
  {
   "cell_type": "code",
   "execution_count": 29,
   "metadata": {},
   "outputs": [
    {
     "data": {
      "text/plain": [
       "count     10000.000000\n",
       "mean      76485.889288\n",
       "std       62397.405202\n",
       "min           0.000000\n",
       "25%           0.000000\n",
       "50%       97198.540000\n",
       "75%      127644.240000\n",
       "max      250898.090000\n",
       "Name: Balance, dtype: float64"
      ]
     },
     "execution_count": 29,
     "metadata": {},
     "output_type": "execute_result"
    }
   ],
   "source": [
    "df[\"Balance\"].describe()"
   ]
  },
  {
   "cell_type": "code",
   "execution_count": 30,
   "metadata": {},
   "outputs": [
    {
     "data": {
      "image/png": "[encoded data removed]",
      "text/plain": [
       "<Figure size 640x480 with 1 Axes>"
      ]
     },
     "metadata": {},
     "output_type": "display_data"
    }
   ],
   "source": [
    "sns.boxplot(df[\"Balance\"],orient='h')\n",
    "plt.show()"
   ]
  },
  {
   "cell_type": "code",
   "execution_count": 31,
   "metadata": {},
   "outputs": [
    {
     "name": "stdout",
     "output_type": "stream",
     "text": [
      "0.37\n",
      "0.24091907416793376\n",
      "0.2498\n",
      "0.25234423838299647\n",
      "0.5588235294117647\n"
     ]
    }
   ],
   "source": [
    "# Balance durumlarına göre Exit olma ortalamalarına baktım.\n",
    "print(df[df[\"Balance\"]>185967][\"Exited\"].mean())\n",
    "print(df[df[\"Balance\"]>76485][\"Exited\"].mean())\n",
    "print(df[df[\"Balance\"]>97198][\"Exited\"].mean())\n",
    "print(df[df[\"Balance\"]>100000][\"Exited\"].mean())\n",
    "print(df[df[\"Balance\"]>200000][\"Exited\"].mean())"
   ]
  },
  {
   "cell_type": "code",
   "execution_count": 32,
   "metadata": {},
   "outputs": [
    {
     "data": {
      "image/png": "[encoded data removed]",
      "text/plain": [
       "<Figure size 500x300 with 1 Axes>"
      ]
     },
     "metadata": {},
     "output_type": "display_data"
    }
   ],
   "source": [
    "plot_histogram(df, \"Balance\")"
   ]
  },
  {
   "cell_type": "code",
   "execution_count": 33,
   "metadata": {},
   "outputs": [
    {
     "name": "stdout",
     "output_type": "stream",
     "text": [
      "(3617, 12)\n",
      "(7269, 12)\n",
      "(9999, 12)\n"
     ]
    }
   ],
   "source": [
    "print(df[df[\"Balance\"]==0].shape)\n",
    "print(df[df[\"Balance\"]<125000].shape)\n",
    "print(df[df[\"Balance\"]<250000].shape)"
   ]
  },
  {
   "cell_type": "code",
   "execution_count": 34,
   "metadata": {},
   "outputs": [
    {
     "name": "stdout",
     "output_type": "stream",
     "text": [
      "0.13823610727121924\n",
      "0.2407958640137866\n"
     ]
    }
   ],
   "source": [
    "# Balance değerleri 0 olmayanların, 0 olanlara oranla churn olma olasılıkları daha yüksek.\n",
    "# Preprocessing'te bununla ilgili bir değişken oluşturdum.\n",
    "print(df[df[\"Balance\"]==0][\"Exited\"].mean())\n",
    "print(df[df[\"Balance\"]!=0][\"Exited\"].mean())"
   ]
  },
  {
   "cell_type": "markdown",
   "metadata": {},
   "source": [
    "Numofproducts"
   ]
  },
  {
   "cell_type": "code",
   "execution_count": 35,
   "metadata": {},
   "outputs": [
    {
     "data": {
      "text/plain": [
       "NumOfProducts\n",
       "1    5084\n",
       "2    4590\n",
       "3     266\n",
       "4      60\n",
       "Name: count, dtype: int64"
      ]
     },
     "execution_count": 35,
     "metadata": {},
     "output_type": "execute_result"
    }
   ],
   "source": [
    "df[\"NumOfProducts\"].value_counts()"
   ]
  },
  {
   "cell_type": "code",
   "execution_count": 36,
   "metadata": {},
   "outputs": [
    {
     "data": {
      "text/html": [
       "<div>\n",
       "<style scoped>\n",
       "    .dataframe tbody tr th:only-of-type {\n",
       "        vertical-align: middle;\n",
       "    }\n",
       "\n",
       "    .dataframe tbody tr th {\n",
       "        vertical-align: top;\n",
       "    }\n",
       "\n",
       "    .dataframe thead th {\n",
       "        text-align: right;\n",
       "    }\n",
       "</style>\n",
       "<table border=\"1\" class=\"dataframe\">\n",
       "  <thead>\n",
       "    <tr style=\"text-align: right;\">\n",
       "      <th></th>\n",
       "      <th>Exited</th>\n",
       "    </tr>\n",
       "    <tr>\n",
       "      <th>NumOfProducts</th>\n",
       "      <th></th>\n",
       "    </tr>\n",
       "  </thead>\n",
       "  <tbody>\n",
       "    <tr>\n",
       "      <th>1</th>\n",
       "      <td>5084</td>\n",
       "    </tr>\n",
       "    <tr>\n",
       "      <th>2</th>\n",
       "      <td>4590</td>\n",
       "    </tr>\n",
       "    <tr>\n",
       "      <th>3</th>\n",
       "      <td>266</td>\n",
       "    </tr>\n",
       "    <tr>\n",
       "      <th>4</th>\n",
       "      <td>60</td>\n",
       "    </tr>\n",
       "  </tbody>\n",
       "</table>\n",
       "</div>"
      ],
      "text/plain": [
       "               Exited\n",
       "NumOfProducts        \n",
       "1                5084\n",
       "2                4590\n",
       "3                 266\n",
       "4                  60"
      ]
     },
     "execution_count": 36,
     "metadata": {},
     "output_type": "execute_result"
    }
   ],
   "source": [
    "df.groupby(\"NumOfProducts\").agg({\"Exited\":\"count\"})"
   ]
  },
  {
   "cell_type": "code",
   "execution_count": 37,
   "metadata": {},
   "outputs": [
    {
     "name": "stdout",
     "output_type": "stream",
     "text": [
      "0.27714398111723054\n",
      "0.07581699346405228\n",
      "0.8270676691729323\n",
      "1.0\n"
     ]
    }
   ],
   "source": [
    "# Number of Products 4'se'kesin churn, 3'se %82 olasılıkla churn, 2 ise yüksek ihtimal churn değil, 1 ise %28 ihtimal churn.\n",
    "# Preprocessing'te bu sıralamaya göre yeni bir değişken oluşturdum. (NOP* isminde)\n",
    "print(df[(df[\"NumOfProducts\"]==1)][\"Exited\"].mean())\n",
    "print(df[(df[\"NumOfProducts\"]==2)][\"Exited\"].mean())\n",
    "print(df[(df[\"NumOfProducts\"]==3)][\"Exited\"].mean())\n",
    "print(df[(df[\"NumOfProducts\"]==4)][\"Exited\"].mean())"
   ]
  },
  {
   "cell_type": "markdown",
   "metadata": {},
   "source": [
    "HasCrCard"
   ]
  },
  {
   "cell_type": "code",
   "execution_count": 38,
   "metadata": {},
   "outputs": [
    {
     "data": {
      "image/png": "[encoded data removed]",
      "text/plain": [
       "<Figure size 640x480 with 1 Axes>"
      ]
     },
     "metadata": {},
     "output_type": "display_data"
    }
   ],
   "source": [
    "#^Müşterilerin %70'inin kredi kartı var. \n",
    "sns.countplot(x='HasCrCard', data=df, palette='viridis')\n",
    "\n",
    "# Başlık ve etiketler\n",
    "plt.title('Count of Customers with Credit Card')\n",
    "plt.xlabel('Has Credit Card')\n",
    "plt.ylabel('Count')\n",
    "\n",
    "# Grafik gösterimi\n",
    "plt.show()"
   ]
  },
  {
   "cell_type": "code",
   "execution_count": 39,
   "metadata": {},
   "outputs": [
    {
     "data": {
      "text/plain": [
       "-0.007137765603038878"
      ]
     },
     "execution_count": 39,
     "metadata": {},
     "output_type": "execute_result"
    }
   ],
   "source": [
    "# Kredi kartı olup olmaması ile churn olması arasında ilişki vardır diye düşündüm ama yokmuş.\n",
    "df['HasCrCard'].corr(df['Exited'])"
   ]
  },
  {
   "cell_type": "code",
   "execution_count": 40,
   "metadata": {},
   "outputs": [
    {
     "name": "stdout",
     "output_type": "stream",
     "text": [
      "(2509, 12)\n",
      "(814, 12)\n",
      "(1695, 12)\n",
      "0.6755679553607015\n",
      "0.32443204463929853\n"
     ]
    }
   ],
   "source": [
    "# Almanların terk olasılığı, diğer milletlere göre daha yüksek\n",
    "# Almanlarda %32 terk- %68 kalıyor\n",
    "print(df[df[\"Geography_Germany\"]==1].shape)\n",
    "print(df[(df[\"Geography_Germany\"]==1) & (df[\"Exited\"]==1)].shape)\n",
    "print(df[(df[\"Geography_Germany\"]==1) & (df[\"Exited\"]==0)].shape)\n",
    "print(1695/2509)\n",
    "print(814/2509)"
   ]
  },
  {
   "cell_type": "code",
   "execution_count": 41,
   "metadata": {},
   "outputs": [
    {
     "name": "stdout",
     "output_type": "stream",
     "text": [
      "(2477, 12)\n",
      "(413, 12)\n",
      "(2064, 12)\n",
      "0.1667339523617279\n",
      "0.8332660476382721\n"
     ]
    }
   ],
   "source": [
    "# İspanyollarda %17 terk- %83 kalıyor\n",
    "print(df[df[\"Geography_Spain\"]==1].shape)\n",
    "print(df[(df[\"Geography_Spain\"]==1) & (df[\"Exited\"]==1)].shape)\n",
    "print(df[(df[\"Geography_Spain\"]==1) & (df[\"Exited\"]==0)].shape)\n",
    "print(413/2477)\n",
    "print(2064/2477)"
   ]
  },
  {
   "cell_type": "code",
   "execution_count": 42,
   "metadata": {},
   "outputs": [
    {
     "name": "stdout",
     "output_type": "stream",
     "text": [
      "(5014, 12)\n",
      "(810, 12)\n",
      "(4204, 12)\n",
      "0.16154766653370561\n",
      "0.8384523334662943\n"
     ]
    }
   ],
   "source": [
    "# Fransızlarda %16 terk- %83 kalıyor\n",
    "print(df[(df[\"Geography_Spain\"]==0) & (df[\"Geography_Germany\"]==0)].shape)\n",
    "print(df[(df[\"Geography_Spain\"]==0) & (df[\"Geography_Germany\"]==0)& (df[\"Exited\"]==1)].shape)\n",
    "print(df[(df[\"Geography_Spain\"]==0) & (df[\"Geography_Germany\"]==0)& (df[\"Exited\"]==0)].shape)\n",
    "print(810/5014)\n",
    "print(4204/5014)"
   ]
  },
  {
   "cell_type": "code",
   "execution_count": 43,
   "metadata": {},
   "outputs": [
    {
     "data": {
      "image/png": "[encoded data removed]",
      "text/plain": [
       "<Figure size 700x700 with 1 Axes>"
      ]
     },
     "metadata": {},
     "output_type": "display_data"
    }
   ],
   "source": [
    "#Müşterilerin %55'i erkek, %45'i kadın\n",
    "gender_counts = df[\"Gender_Male\"].value_counts()\n",
    "\n",
    "# Pasta grafiği çizimi\n",
    "plt.figure(figsize=(7,7))\n",
    "plt.pie(gender_counts, labels=[\"Female\", \"Male\"], autopct='%1.1f%%', colors=[\"lightcoral\",\"lightblue\"])\n",
    "\n",
    "# Başlık\n",
    "plt.title('Gender Distribution of Customers')\n",
    "\n",
    "# Grafik gösterimi\n",
    "plt.show()"
   ]
  },
  {
   "cell_type": "code",
   "execution_count": 44,
   "metadata": {},
   "outputs": [
    {
     "name": "stdout",
     "output_type": "stream",
     "text": [
      "Requirement already satisfied: imbalanced-learn in c:\\users\\lenovo\\appdata\\local\\programs\\python\\python311\\lib\\site-packages (0.12.4)\n",
      "Requirement already satisfied: numpy>=1.17.3 in c:\\users\\lenovo\\appdata\\local\\programs\\python\\python311\\lib\\site-packages (from imbalanced-learn) (1.23.5)\n",
      "Requirement already satisfied: scipy>=1.5.0 in c:\\users\\lenovo\\appdata\\local\\programs\\python\\python311\\lib\\site-packages (from imbalanced-learn) (1.10.1)\n",
      "Requirement already satisfied: scikit-learn>=1.0.2 in c:\\users\\lenovo\\appdata\\local\\programs\\python\\python311\\lib\\site-packages (from imbalanced-learn) (1.2.2)\n",
      "Requirement already satisfied: joblib>=1.1.1 in c:\\users\\lenovo\\appdata\\local\\programs\\python\\python311\\lib\\site-packages (from imbalanced-learn) (1.2.0)\n",
      "Requirement already satisfied: threadpoolctl>=2.0.0 in c:\\users\\lenovo\\appdata\\local\\programs\\python\\python311\\lib\\site-packages (from imbalanced-learn) (3.1.0)\n",
      "Note: you may need to restart the kernel to use updated packages.\n"
     ]
    },
    {
     "name": "stderr",
     "output_type": "stream",
     "text": [
      "\n",
      "[notice] A new release of pip is available: 23.2.1 -> 24.3.1\n",
      "[notice] To update, run: python.exe -m pip install --upgrade pip\n"
     ]
    }
   ],
   "source": [
    "pip install imbalanced-learn\n"
   ]
  },
  {
   "cell_type": "code",
   "execution_count": 45,
   "metadata": {},
   "outputs": [
    {
     "name": "stdout",
     "output_type": "stream",
     "text": [
      "Requirement already satisfied: lightgbm in c:\\users\\lenovo\\appdata\\local\\programs\\python\\python311\\lib\\site-packages (4.3.0)\n",
      "Requirement already satisfied: numpy in c:\\users\\lenovo\\appdata\\local\\programs\\python\\python311\\lib\\site-packages (from lightgbm) (1.23.5)\n",
      "Requirement already satisfied: scipy in c:\\users\\lenovo\\appdata\\local\\programs\\python\\python311\\lib\\site-packages (from lightgbm) (1.10.1)\n",
      "Note: you may need to restart the kernel to use updated packages.\n"
     ]
    },
    {
     "name": "stderr",
     "output_type": "stream",
     "text": [
      "\n",
      "[notice] A new release of pip is available: 23.2.1 -> 24.3.1\n",
      "[notice] To update, run: python.exe -m pip install --upgrade pip\n"
     ]
    }
   ],
   "source": [
    "pip install lightgbm"
   ]
  },
  {
   "cell_type": "code",
   "execution_count": 46,
   "metadata": {},
   "outputs": [],
   "source": [
    "import numpy as np\n",
    "import pandas as pd\n",
    "import seaborn as sns\n",
    "import matplotlib.pyplot as plt\n",
    "from sklearn.preprocessing import RobustScaler\n",
    "\n",
    "from sklearn.metrics import confusion_matrix, accuracy_score, mean_squared_error, r2_score, roc_auc_score, roc_curve, classification_report\n",
    "from sklearn.model_selection import train_test_split, GridSearchCV, cross_val_score\n",
    "\n",
    "from sklearn.ensemble import GradientBoostingClassifier\n",
    "from sklearn.ensemble import RandomForestClassifier\n",
    "from lightgbm import LGBMClassifier\n",
    "\n",
    "\n",
    "\n",
    "from collections import Counter\n",
    "from sklearn.datasets import make_classification\n",
    "from imblearn.over_sampling import SMOTE\n",
    "from sklearn.metrics import confusion_matrix\n",
    "pd.set_option('display.max_columns', None)\n",
    "pd.set_option('display.max_rows', None)\n"
   ]
  },
  {
   "cell_type": "code",
   "execution_count": 47,
   "metadata": {},
   "outputs": [],
   "source": [
    "df1=df.copy()\n",
    "\n",
    "# Age değişkeninde 18-30=1 , 30-40=2 ,40-50=3, 50-60=4, 60-92=5 olarak atadım\n",
    "df1.loc[(df1[\"Age\"]>=18) & (df1[\"Age\"]<=30), \"Age\"]=1\n",
    "df1.loc[(df1[\"Age\"]>30) & (df1[\"Age\"]<=40), \"Age\"]=2\n",
    "df1.loc[(df1[\"Age\"]>40) & (df1[\"Age\"]<=50), \"Age\"]=3\n",
    "df1.loc[(df1[\"Age\"]>50) & (df1[\"Age\"]<=60), \"Age\"]=4\n",
    "df1.loc[(df1[\"Age\"]>60) & (df1[\"Age\"]<=92), \"Age\"]=5"
   ]
  },
  {
   "cell_type": "code",
   "execution_count": 48,
   "metadata": {},
   "outputs": [],
   "source": [
    "#kredi_skor_tablosu\n",
    "def kredi_skor_tablosu(row):\n",
    "    \n",
    "    kredi_skoru = row.CreditScore\n",
    "    if kredi_skoru >= 300 and kredi_skoru < 500:\n",
    "        return (2)\n",
    "    elif kredi_skoru >= 500 and kredi_skoru < 601:\n",
    "        return (3)\n",
    "    elif kredi_skoru >= 601 and kredi_skoru < 661:\n",
    "        return (4)\n",
    "    elif kredi_skoru >= 661 and kredi_skoru < 781:\n",
    "        return (5)\n",
    "    elif kredi_skoru >= 851:\n",
    "        return (7)\n",
    "    elif kredi_skoru >= 781 and kredi_skoru < 851:\n",
    "        return (6)\n",
    "    elif kredi_skoru < 300:\n",
    "        return (1)\n",
    "    \n",
    "df1 = df1.assign(credit_score_table=df1.apply(lambda x: kredi_skor_tablosu(x), axis=1))\n"
   ]
  },
  {
   "cell_type": "code",
   "execution_count": 49,
   "metadata": {},
   "outputs": [],
   "source": [
    "# emeklilik ile ilgili yeni bir değişken oluşturdum.( Alm, İsp =65 , İtalya=66)\n",
    "# retired\n",
    "df1[\"retired\"]=df[\"Age\"]\n",
    "\n",
    "df1.loc[(df1[\"retired\"]>=65) & (df1[\"Geography_Germany\"]==1), \"retired\"]=1\n",
    "df1.loc[(df1[\"retired\"]>=65) & (df1[\"Geography_Spain\"]==1), \"retired\"]=1\n",
    "df1.loc[(df1[\"retired\"]>=66) & (df[\"Geography_Spain\"]==0) & (df[\"Geography_Germany\"]==0), \"retired\"]=1\n",
    "\n",
    "\n",
    "df1.loc[(df1[\"retired\"]<65) & (df1[\"Geography_Germany\"]==1), \"retired\"]=0\n",
    "df1.loc[(df1[\"retired\"]<65) & (df1[\"Geography_Spain\"]==1), \"retired\"]=0\n",
    "df1.loc[(df1[\"retired\"]<66) & (df[\"Geography_Spain\"]==0) & (df[\"Geography_Germany\"]==0), \"retired\"]=0\n",
    "\n",
    "\n",
    "# Tenure/NumOfProducts\n",
    "df1[\"Tenure/NumOfProducts\"]=df1[\"Tenure\"]/df1[\"NumOfProducts\"]"
   ]
  },
  {
   "cell_type": "code",
   "execution_count": 50,
   "metadata": {},
   "outputs": [],
   "source": [
    "# 405 değerinin altındakilerin hepsi churn olmuş(20 değer), outlier gibi kenarda kalmışlar atmadım yeni değişken oluşturdum\n",
    "#smallerthan405\n",
    "df1[\"smallerthan405\"]=df[\"CreditScore\"]\n",
    "\n",
    "df1.loc[(df1[\"smallerthan405\"]<405), \"smallerthan405\"]=1\n",
    "df1.loc[(df1[\"smallerthan405\"]>405), \"smallerthan405\"]=0"
   ]
  },
  {
   "cell_type": "code",
   "execution_count": 51,
   "metadata": {},
   "outputs": [],
   "source": [
    "# NOP* isminde değişken oluşturdum. Bu değişkeni, number of products'ın her bir ürün bazındaki exit durumuna göre sıraladım.\n",
    "# Mevcut number of products'ı incelediğimde: NOP=1,mean=0.27    NOP=2,mean=0.07    NOP=3,mean=0.82    NOP=4,mean=1\n",
    "df1[\"NOP*\"]=df[\"NumOfProducts\"]\n",
    "df1.loc[(df1[\"NOP*\"]==2), \"NOP*\"]=1\n",
    "df1.loc[(df1[\"NOP*\"]==1), \"NOP*\"]=2\n",
    "df1.loc[(df1[\"NOP*\"]>2), \"NOP*\"]=3"
   ]
  },
  {
   "cell_type": "code",
   "execution_count": 52,
   "metadata": {},
   "outputs": [],
   "source": [
    "#Balance'ı 0 olanların hiç exit olmadığını gözlemledim. Bu nedenle yeni değişken ile Balance'ı 0 ve 0 olmayanlar şeklinde ayırdım.\n",
    "#Balance0\n",
    "df1[\"Balance0\"]=df1[\"Balance\"]\n",
    "df1.loc[(df1[\"Balance0\"]==0), \"Balance0\"]=0\n",
    "df1.loc[(df1[\"Balance0\"]!=0), \"Balance0\"]=1\n"
   ]
  },
  {
   "cell_type": "code",
   "execution_count": 53,
   "metadata": {},
   "outputs": [],
   "source": [
    "# Tahmin edilen maaşın yaşla oranı olabilir diye düşündüm.18 yaşına kadar para kazanmamışlardır dedim.\n",
    "# Fakat veri setinde en küçük yaş 18 olduğu için Age-17'ye böldüm.\n",
    "# Estimated Salary/Age\n",
    "df1[\"ES/Age\"]=df1[\"EstimatedSalary\"]/(df[\"Age\"]-17)\n",
    "\n",
    "\n",
    "# Tenure/Age\n",
    "df1[\"Tenure/Age\"]=df1[\"Tenure\"] / (df[\"Age\"]-17)\n",
    "\n",
    "# Balance/ ES\n",
    "df1[\"Balance/ES\"]=df1[\"Balance\"] / df1[\"EstimatedSalary\"]"
   ]
  },
  {
   "cell_type": "code",
   "execution_count": 54,
   "metadata": {},
   "outputs": [],
   "source": [
    "#Tahmin edilen maaşı aylığa dönüştürdüm. Amacım vergileri de çıkarıp aylık yalın maaş bulmaktı ancak maaş vergileri için \n",
    "#net rakamlar yerine aralıklar bulduğum için uygulamaya geçiremedim.\n",
    "#Estimated Salary (monthly)\n",
    "df1[\"EstimatedSalary\"]=df1[\"EstimatedSalary\"]/12\n",
    "\n",
    "# Tenure'de 0 olan değerler vardı, bu nedenle inf gelmemesi için 1 eklenmiş haline böldüm.\n",
    "# ES/Tenure \n",
    "df1[\"ES/Tenure\"]=df1[\"EstimatedSalary\"]/(df1[\"Tenure\"]+1)\n",
    "\n",
    "# ES/Score\n",
    "df1[\"ES/Score\"]=df1[\"EstimatedSalary\"]/df1[\"credit_score_table\"]     \n"
   ]
  },
  {
   "cell_type": "code",
   "execution_count": 55,
   "metadata": {},
   "outputs": [
    {
     "data": {
      "text/html": [
       "<div>\n",
       "<style scoped>\n",
       "    .dataframe tbody tr th:only-of-type {\n",
       "        vertical-align: middle;\n",
       "    }\n",
       "\n",
       "    .dataframe tbody tr th {\n",
       "        vertical-align: top;\n",
       "    }\n",
       "\n",
       "    .dataframe thead th {\n",
       "        text-align: right;\n",
       "    }\n",
       "</style>\n",
       "<table border=\"1\" class=\"dataframe\">\n",
       "  <thead>\n",
       "    <tr style=\"text-align: right;\">\n",
       "      <th></th>\n",
       "      <th>Age</th>\n",
       "      <th>NumOfProducts</th>\n",
       "      <th>HasCrCard</th>\n",
       "      <th>IsActiveMember</th>\n",
       "      <th>EstimatedSalary</th>\n",
       "      <th>Exited</th>\n",
       "      <th>Geography_Germany</th>\n",
       "      <th>Geography_Spain</th>\n",
       "      <th>Gender_Male</th>\n",
       "      <th>credit_score_table</th>\n",
       "      <th>retired</th>\n",
       "      <th>Tenure/NumOfProducts</th>\n",
       "      <th>smallerthan405</th>\n",
       "      <th>NOP*</th>\n",
       "      <th>Balance0</th>\n",
       "      <th>ES/Age</th>\n",
       "      <th>Tenure/Age</th>\n",
       "      <th>Balance/ES</th>\n",
       "      <th>ES/Tenure</th>\n",
       "      <th>ES/Score</th>\n",
       "    </tr>\n",
       "  </thead>\n",
       "  <tbody>\n",
       "    <tr>\n",
       "      <th>0</th>\n",
       "      <td>3</td>\n",
       "      <td>1</td>\n",
       "      <td>1</td>\n",
       "      <td>1</td>\n",
       "      <td>8445.740000</td>\n",
       "      <td>1</td>\n",
       "      <td>0</td>\n",
       "      <td>0</td>\n",
       "      <td>0</td>\n",
       "      <td>4</td>\n",
       "      <td>0</td>\n",
       "      <td>2.000000</td>\n",
       "      <td>0</td>\n",
       "      <td>2</td>\n",
       "      <td>0.0</td>\n",
       "      <td>4053.955200</td>\n",
       "      <td>0.080000</td>\n",
       "      <td>0.000000</td>\n",
       "      <td>2815.246667</td>\n",
       "      <td>2111.435000</td>\n",
       "    </tr>\n",
       "    <tr>\n",
       "      <th>1</th>\n",
       "      <td>3</td>\n",
       "      <td>1</td>\n",
       "      <td>0</td>\n",
       "      <td>1</td>\n",
       "      <td>9378.548333</td>\n",
       "      <td>0</td>\n",
       "      <td>0</td>\n",
       "      <td>1</td>\n",
       "      <td>0</td>\n",
       "      <td>4</td>\n",
       "      <td>0</td>\n",
       "      <td>1.000000</td>\n",
       "      <td>0</td>\n",
       "      <td>2</td>\n",
       "      <td>1.0</td>\n",
       "      <td>4689.274167</td>\n",
       "      <td>0.041667</td>\n",
       "      <td>0.744677</td>\n",
       "      <td>4689.274167</td>\n",
       "      <td>2344.637083</td>\n",
       "    </tr>\n",
       "    <tr>\n",
       "      <th>2</th>\n",
       "      <td>3</td>\n",
       "      <td>3</td>\n",
       "      <td>1</td>\n",
       "      <td>0</td>\n",
       "      <td>9494.297500</td>\n",
       "      <td>1</td>\n",
       "      <td>0</td>\n",
       "      <td>0</td>\n",
       "      <td>0</td>\n",
       "      <td>3</td>\n",
       "      <td>0</td>\n",
       "      <td>2.666667</td>\n",
       "      <td>0</td>\n",
       "      <td>3</td>\n",
       "      <td>1.0</td>\n",
       "      <td>4557.262800</td>\n",
       "      <td>0.320000</td>\n",
       "      <td>1.401375</td>\n",
       "      <td>1054.921944</td>\n",
       "      <td>3164.765833</td>\n",
       "    </tr>\n",
       "  </tbody>\n",
       "</table>\n",
       "</div>"
      ],
      "text/plain": [
       "   Age  NumOfProducts  HasCrCard  IsActiveMember  EstimatedSalary  Exited   \n",
       "0    3              1          1               1      8445.740000       1  \\\n",
       "1    3              1          0               1      9378.548333       0   \n",
       "2    3              3          1               0      9494.297500       1   \n",
       "\n",
       "   Geography_Germany  Geography_Spain  Gender_Male  credit_score_table   \n",
       "0                  0                0            0                   4  \\\n",
       "1                  0                1            0                   4   \n",
       "2                  0                0            0                   3   \n",
       "\n",
       "   retired  Tenure/NumOfProducts  smallerthan405  NOP*  Balance0       ES/Age   \n",
       "0        0              2.000000               0     2       0.0  4053.955200  \\\n",
       "1        0              1.000000               0     2       1.0  4689.274167   \n",
       "2        0              2.666667               0     3       1.0  4557.262800   \n",
       "\n",
       "   Tenure/Age  Balance/ES    ES/Tenure     ES/Score  \n",
       "0    0.080000    0.000000  2815.246667  2111.435000  \n",
       "1    0.041667    0.744677  4689.274167  2344.637083  \n",
       "2    0.320000    1.401375  1054.921944  3164.765833  "
      ]
     },
     "execution_count": 55,
     "metadata": {},
     "output_type": "execute_result"
    }
   ],
   "source": [
    "# DROP FEATURE \n",
    "#Kredi skor sıralamasını anlatan bir değişken oluşturduğum için asıl değişkeni veri setinden çıkardım.\n",
    "df1=df1.drop([\"CreditScore\"], axis=1)\n",
    "df1=df1.drop([\"Tenure\"], axis=1)\n",
    "df1=df1.drop([\"Balance\"], axis=1)\n",
    "df1.head(3)"
   ]
  },
  {
   "cell_type": "markdown",
   "metadata": {},
   "source": [
    "Robust Scaler"
   ]
  },
  {
   "cell_type": "code",
   "execution_count": 56,
   "metadata": {},
   "outputs": [
    {
     "data": {
      "text/html": [
       "<div>\n",
       "<style scoped>\n",
       "    .dataframe tbody tr th:only-of-type {\n",
       "        vertical-align: middle;\n",
       "    }\n",
       "\n",
       "    .dataframe tbody tr th {\n",
       "        vertical-align: top;\n",
       "    }\n",
       "\n",
       "    .dataframe thead th {\n",
       "        text-align: right;\n",
       "    }\n",
       "</style>\n",
       "<table border=\"1\" class=\"dataframe\">\n",
       "  <thead>\n",
       "    <tr style=\"text-align: right;\">\n",
       "      <th></th>\n",
       "      <th>Age</th>\n",
       "      <th>NumOfProducts</th>\n",
       "      <th>EstimatedSalary</th>\n",
       "      <th>credit_score_table</th>\n",
       "      <th>Tenure/NumOfProducts</th>\n",
       "      <th>NOP*</th>\n",
       "      <th>ES/Age</th>\n",
       "      <th>Tenure/Age</th>\n",
       "      <th>Balance/ES</th>\n",
       "      <th>ES/Tenure</th>\n",
       "      <th>ES/Score</th>\n",
       "    </tr>\n",
       "  </thead>\n",
       "  <tbody>\n",
       "    <tr>\n",
       "      <th>0</th>\n",
       "      <td>1.0</td>\n",
       "      <td>0.0</td>\n",
       "      <td>0.011739</td>\n",
       "      <td>0.0</td>\n",
       "      <td>-0.285714</td>\n",
       "      <td>0.0</td>\n",
       "      <td>-0.098571</td>\n",
       "      <td>-0.541282</td>\n",
       "      <td>-0.493389</td>\n",
       "      <td>0.845604</td>\n",
       "      <td>0.052177</td>\n",
       "    </tr>\n",
       "    <tr>\n",
       "      <th>1</th>\n",
       "      <td>1.0</td>\n",
       "      <td>0.0</td>\n",
       "      <td>0.125512</td>\n",
       "      <td>0.0</td>\n",
       "      <td>-0.571429</td>\n",
       "      <td>0.0</td>\n",
       "      <td>0.018697</td>\n",
       "      <td>-0.678093</td>\n",
       "      <td>-0.001536</td>\n",
       "      <td>1.950742</td>\n",
       "      <td>0.168053</td>\n",
       "    </tr>\n",
       "    <tr>\n",
       "      <th>2</th>\n",
       "      <td>1.0</td>\n",
       "      <td>2.0</td>\n",
       "      <td>0.139630</td>\n",
       "      <td>-0.5</td>\n",
       "      <td>-0.095238</td>\n",
       "      <td>1.0</td>\n",
       "      <td>-0.005669</td>\n",
       "      <td>0.315269</td>\n",
       "      <td>0.432208</td>\n",
       "      <td>-0.192482</td>\n",
       "      <td>0.575569</td>\n",
       "    </tr>\n",
       "    <tr>\n",
       "      <th>3</th>\n",
       "      <td>0.0</td>\n",
       "      <td>1.0</td>\n",
       "      <td>-0.064717</td>\n",
       "      <td>0.5</td>\n",
       "      <td>-0.714286</td>\n",
       "      <td>0.0</td>\n",
       "      <td>-0.059644</td>\n",
       "      <td>-0.664574</td>\n",
       "      <td>-0.493389</td>\n",
       "      <td>1.490866</td>\n",
       "      <td>-0.219950</td>\n",
       "    </tr>\n",
       "    <tr>\n",
       "      <th>4</th>\n",
       "      <td>1.0</td>\n",
       "      <td>0.0</td>\n",
       "      <td>-0.214561</td>\n",
       "      <td>1.0</td>\n",
       "      <td>-0.285714</td>\n",
       "      <td>0.0</td>\n",
       "      <td>-0.285415</td>\n",
       "      <td>-0.552264</td>\n",
       "      <td>0.554848</td>\n",
       "      <td>0.480887</td>\n",
       "      <td>-0.451197</td>\n",
       "    </tr>\n",
       "  </tbody>\n",
       "</table>\n",
       "</div>"
      ],
      "text/plain": [
       "   Age  NumOfProducts  EstimatedSalary  credit_score_table   \n",
       "0  1.0            0.0         0.011739                 0.0  \\\n",
       "1  1.0            0.0         0.125512                 0.0   \n",
       "2  1.0            2.0         0.139630                -0.5   \n",
       "3  0.0            1.0        -0.064717                 0.5   \n",
       "4  1.0            0.0        -0.214561                 1.0   \n",
       "\n",
       "   Tenure/NumOfProducts  NOP*    ES/Age  Tenure/Age  Balance/ES  ES/Tenure   \n",
       "0             -0.285714   0.0 -0.098571   -0.541282   -0.493389   0.845604  \\\n",
       "1             -0.571429   0.0  0.018697   -0.678093   -0.001536   1.950742   \n",
       "2             -0.095238   1.0 -0.005669    0.315269    0.432208  -0.192482   \n",
       "3             -0.714286   0.0 -0.059644   -0.664574   -0.493389   1.490866   \n",
       "4             -0.285714   0.0 -0.285415   -0.552264    0.554848   0.480887   \n",
       "\n",
       "   ES/Score  \n",
       "0  0.052177  \n",
       "1  0.168053  \n",
       "2  0.575569  \n",
       "3 -0.219950  \n",
       "4 -0.451197  "
      ]
     },
     "execution_count": 56,
     "metadata": {},
     "output_type": "execute_result"
    }
   ],
   "source": [
    "#Robust Scaler uygulayacağım değişkenleri seçtim.\n",
    "df1_num=df1[[\"Age\",\"NumOfProducts\",\"EstimatedSalary\", \n",
    "             \"credit_score_table\",\"Tenure/NumOfProducts\",\"NOP*\",\"ES/Age\",\n",
    "             \"Tenure/Age\",\"Balance/ES\",\"ES/Tenure\",\"ES/Score\"]]\n",
    "\n",
    "# Scaling işlemini uyguladığım veri setine x_transformed adını verdim.\n",
    "col=df1_num.columns\n",
    "x_transformed=pd.DataFrame(RobustScaler().fit(df1_num).transform(df1_num), columns=col)\n",
    "x_transformed.head()"
   ]
  },
  {
   "cell_type": "code",
   "execution_count": 57,
   "metadata": {},
   "outputs": [
    {
     "data": {
      "text/html": [
       "<div>\n",
       "<style scoped>\n",
       "    .dataframe tbody tr th:only-of-type {\n",
       "        vertical-align: middle;\n",
       "    }\n",
       "\n",
       "    .dataframe tbody tr th {\n",
       "        vertical-align: top;\n",
       "    }\n",
       "\n",
       "    .dataframe thead th {\n",
       "        text-align: right;\n",
       "    }\n",
       "</style>\n",
       "<table border=\"1\" class=\"dataframe\">\n",
       "  <thead>\n",
       "    <tr style=\"text-align: right;\">\n",
       "      <th></th>\n",
       "      <th>Age</th>\n",
       "      <th>NumOfProducts</th>\n",
       "      <th>HasCrCard</th>\n",
       "      <th>IsActiveMember</th>\n",
       "      <th>EstimatedSalary</th>\n",
       "      <th>Geography_Germany</th>\n",
       "      <th>Geography_Spain</th>\n",
       "      <th>Gender_Male</th>\n",
       "      <th>credit_score_table</th>\n",
       "      <th>retired</th>\n",
       "      <th>Tenure/NumOfProducts</th>\n",
       "      <th>smallerthan405</th>\n",
       "      <th>NOP*</th>\n",
       "      <th>Balance0</th>\n",
       "      <th>ES/Age</th>\n",
       "      <th>Tenure/Age</th>\n",
       "      <th>Balance/ES</th>\n",
       "      <th>ES/Tenure</th>\n",
       "      <th>ES/Score</th>\n",
       "    </tr>\n",
       "  </thead>\n",
       "  <tbody>\n",
       "    <tr>\n",
       "      <th>0</th>\n",
       "      <td>1.0</td>\n",
       "      <td>0.0</td>\n",
       "      <td>1</td>\n",
       "      <td>1</td>\n",
       "      <td>0.011739</td>\n",
       "      <td>0</td>\n",
       "      <td>0</td>\n",
       "      <td>0</td>\n",
       "      <td>0.0</td>\n",
       "      <td>0</td>\n",
       "      <td>-0.285714</td>\n",
       "      <td>0</td>\n",
       "      <td>0.0</td>\n",
       "      <td>0.0</td>\n",
       "      <td>-0.098571</td>\n",
       "      <td>-0.541282</td>\n",
       "      <td>-0.493389</td>\n",
       "      <td>0.845604</td>\n",
       "      <td>0.052177</td>\n",
       "    </tr>\n",
       "    <tr>\n",
       "      <th>1</th>\n",
       "      <td>1.0</td>\n",
       "      <td>0.0</td>\n",
       "      <td>0</td>\n",
       "      <td>1</td>\n",
       "      <td>0.125512</td>\n",
       "      <td>0</td>\n",
       "      <td>1</td>\n",
       "      <td>0</td>\n",
       "      <td>0.0</td>\n",
       "      <td>0</td>\n",
       "      <td>-0.571429</td>\n",
       "      <td>0</td>\n",
       "      <td>0.0</td>\n",
       "      <td>1.0</td>\n",
       "      <td>0.018697</td>\n",
       "      <td>-0.678093</td>\n",
       "      <td>-0.001536</td>\n",
       "      <td>1.950742</td>\n",
       "      <td>0.168053</td>\n",
       "    </tr>\n",
       "  </tbody>\n",
       "</table>\n",
       "</div>"
      ],
      "text/plain": [
       "   Age  NumOfProducts  HasCrCard  IsActiveMember  EstimatedSalary   \n",
       "0  1.0            0.0          1               1         0.011739  \\\n",
       "1  1.0            0.0          0               1         0.125512   \n",
       "\n",
       "   Geography_Germany  Geography_Spain  Gender_Male  credit_score_table   \n",
       "0                  0                0            0                 0.0  \\\n",
       "1                  0                1            0                 0.0   \n",
       "\n",
       "   retired  Tenure/NumOfProducts  smallerthan405  NOP*  Balance0    ES/Age   \n",
       "0        0             -0.285714               0   0.0       0.0 -0.098571  \\\n",
       "1        0             -0.571429               0   0.0       1.0  0.018697   \n",
       "\n",
       "   Tenure/Age  Balance/ES  ES/Tenure  ES/Score  \n",
       "0   -0.541282   -0.493389   0.845604  0.052177  \n",
       "1   -0.678093   -0.001536   1.950742  0.168053  "
      ]
     },
     "execution_count": 57,
     "metadata": {},
     "output_type": "execute_result"
    }
   ],
   "source": [
    "# Scale işlemini yaptığım ve yapmadığım değişkenlerle -churn veri setindeki değişken sırasını da dikkate alarak-\n",
    "# yeni bir dataframe oluşturdum. Exited isimli y değişkenini ise koymadım. Böylelikle bağımsız değişkenleri bir\n",
    "# dataframede toplamış oldum. X ismini koydum.\n",
    "X=pd.concat([x_transformed.loc[:,\"Age\":\"NumOfProducts\"],df1.loc[:,\"HasCrCard\":\"IsActiveMember\"],\n",
    "             x_transformed.loc[:,\"EstimatedSalary\"], df1.loc[:,\"Geography_Germany\":\"Gender_Male\"],\n",
    "             x_transformed.loc[:, \"credit_score_table\"], df1.loc[:,\"retired\"],\n",
    "             x_transformed.loc[:,\"Tenure/NumOfProducts\"],df1.loc[:,\"smallerthan405\"],\n",
    "             x_transformed.loc[:,\"NOP*\"],df1.loc[:,\"Balance0\"],\n",
    "             x_transformed.loc[:, \"ES/Age\":\"ES/Score\"]], axis=1)\n",
    "X.head(2)"
   ]
  },
  {
   "cell_type": "markdown",
   "metadata": {},
   "source": [
    "MODELING"
   ]
  },
  {
   "cell_type": "code",
   "execution_count": 58,
   "metadata": {},
   "outputs": [],
   "source": [
    "# X' daha önceden tanımlamıştım, şimdi ise y'yi tanımladım. \n",
    "y=df1[\"Exited\"]\n",
    "\n",
    "#split işlemi\n",
    "X_train, X_test, y_train, y_test = train_test_split(X, y, \n",
    "                                                    test_size=0.20, \n",
    "                                                    random_state=12345)"
   ]
  },
  {
   "cell_type": "markdown",
   "metadata": {},
   "source": [
    "Random Forest"
   ]
  },
  {
   "cell_type": "code",
   "execution_count": 59,
   "metadata": {},
   "outputs": [
    {
     "name": "stdout",
     "output_type": "stream",
     "text": [
      "0.853125\n",
      "0.847\n",
      "              precision    recall  f1-score   support\n",
      "\n",
      "           0       0.86      0.97      0.91      1573\n",
      "           1       0.76      0.41      0.53       427\n",
      "\n",
      "    accuracy                           0.85      2000\n",
      "   macro avg       0.81      0.69      0.72      2000\n",
      "weighted avg       0.84      0.85      0.83      2000\n",
      "\n"
     ]
    }
   ],
   "source": [
    "# rf model kurulumu\n",
    "rf_model = RandomForestClassifier().fit(X_train,y_train)\n",
    "y_pred = rf_model.predict(X_test)\n",
    "\n",
    "# validasyon hatası, accuracy skoru, confusion matrix\n",
    "cv_results = cross_val_score(rf_model, X_train, y_train, cv = 10, scoring= \"accuracy\")\n",
    "\n",
    "print(cv_results.mean())\n",
    "print(accuracy_score(y_test, y_pred))\n",
    "print(classification_report(y_test, y_pred))\n"
   ]
  },
  {
   "cell_type": "code",
   "execution_count": 60,
   "metadata": {},
   "outputs": [
    {
     "data": {
      "image/png": "[encoded data removed]",
      "text/plain": [
       "<Figure size 1000x1000 with 1 Axes>"
      ]
     },
     "metadata": {},
     "output_type": "display_data"
    }
   ],
   "source": [
    "# Feature importance'a baktım. Retired önemsiz görünüyor, çıkararak tekrar hataları ölçtüm, \n",
    "#değişen bir şey olmadı. Diğer modellerde önemli olabilir diye bıraktım.\n",
    "\n",
    "\n",
    "importance=rf_model.feature_importances_\n",
    "plt.figure(figsize=(10,10))\n",
    "plt.barh(X.columns,importance)\n",
    "plt.show()"
   ]
  },
  {
   "cell_type": "markdown",
   "metadata": {},
   "source": [
    "GBM"
   ]
  },
  {
   "cell_type": "code",
   "execution_count": 61,
   "metadata": {},
   "outputs": [
    {
     "name": "stdout",
     "output_type": "stream",
     "text": [
      "0.8628750000000001\n",
      "0.853\n",
      "              precision    recall  f1-score   support\n",
      "\n",
      "           0       0.86      0.97      0.91      1573\n",
      "           1       0.79      0.43      0.55       427\n",
      "\n",
      "    accuracy                           0.85      2000\n",
      "   macro avg       0.82      0.70      0.73      2000\n",
      "weighted avg       0.85      0.85      0.84      2000\n",
      "\n"
     ]
    }
   ],
   "source": [
    "# gbm model kurulumu\n",
    "gbm_model=GradientBoostingClassifier().fit(X_train,y_train)\n",
    "y_pred = gbm_model.predict(X_test)\n",
    "\n",
    "# validasyon hatası, accuracy skoru, confusion matrix\n",
    "cv_results = cross_val_score(gbm_model, X_train, y_train, cv = 10, scoring= \"accuracy\")\n",
    "\n",
    "print(cv_results.mean())\n",
    "print(accuracy_score(y_test, y_pred))\n",
    "print(classification_report(y_test, y_pred))"
   ]
  },
  {
   "cell_type": "markdown",
   "metadata": {},
   "source": [
    "LGBM"
   ]
  },
  {
   "cell_type": "code",
   "execution_count": 62,
   "metadata": {},
   "outputs": [
    {
     "name": "stderr",
     "output_type": "stream",
     "text": [
      "c:\\Users\\Lenovo\\AppData\\Local\\Programs\\Python\\Python311\\Lib\\site-packages\\joblib\\externals\\loky\\backend\\context.py:110: UserWarning: Could not find the number of physical cores for the following reason:\n",
      "found 0 physical cores < 1\n",
      "Returning the number of logical cores instead. You can silence this warning by setting LOKY_MAX_CPU_COUNT to the number of cores you want to use.\n",
      "  warnings.warn(\n",
      "  File \"c:\\Users\\Lenovo\\AppData\\Local\\Programs\\Python\\Python311\\Lib\\site-packages\\joblib\\externals\\loky\\backend\\context.py\", line 217, in _count_physical_cores\n",
      "    raise ValueError(\n"
     ]
    },
    {
     "name": "stdout",
     "output_type": "stream",
     "text": [
      "[LightGBM] [Info] Number of positive: 1610, number of negative: 6390\n",
      "[LightGBM] [Info] Auto-choosing row-wise multi-threading, the overhead of testing was 0.001456 seconds.\n",
      "You can set `force_row_wise=true` to remove the overhead.\n",
      "And if memory is not enough, you can set `force_col_wise=true`.\n",
      "[LightGBM] [Info] Total Bins 1576\n",
      "[LightGBM] [Info] Number of data points in the train set: 8000, number of used features: 17\n",
      "[LightGBM] [Info] [binary:BoostFromScore]: pavg=0.201250 -> initscore=-1.378500\n",
      "[LightGBM] [Info] Start training from score -1.378500\n",
      "[LightGBM] [Info] Number of positive: 1449, number of negative: 5751\n",
      "[LightGBM] [Info] Auto-choosing row-wise multi-threading, the overhead of testing was 0.000454 seconds.\n",
      "You can set `force_row_wise=true` to remove the overhead.\n",
      "And if memory is not enough, you can set `force_col_wise=true`.\n",
      "[LightGBM] [Info] Total Bins 1576\n",
      "[LightGBM] [Info] Number of data points in the train set: 7200, number of used features: 17\n",
      "[LightGBM] [Info] [binary:BoostFromScore]: pavg=0.201250 -> initscore=-1.378500\n",
      "[LightGBM] [Info] Start training from score -1.378500\n",
      "[LightGBM] [Info] Number of positive: 1449, number of negative: 5751\n",
      "[LightGBM] [Info] Auto-choosing row-wise multi-threading, the overhead of testing was 0.000521 seconds.\n",
      "You can set `force_row_wise=true` to remove the overhead.\n",
      "And if memory is not enough, you can set `force_col_wise=true`.\n",
      "[LightGBM] [Info] Total Bins 1578\n",
      "[LightGBM] [Info] Number of data points in the train set: 7200, number of used features: 17\n",
      "[LightGBM] [Info] [binary:BoostFromScore]: pavg=0.201250 -> initscore=-1.378500\n",
      "[LightGBM] [Info] Start training from score -1.378500\n",
      "[LightGBM] [Info] Number of positive: 1449, number of negative: 5751\n",
      "[LightGBM] [Info] Auto-choosing row-wise multi-threading, the overhead of testing was 0.002487 seconds.\n",
      "You can set `force_row_wise=true` to remove the overhead.\n",
      "And if memory is not enough, you can set `force_col_wise=true`.\n",
      "[LightGBM] [Info] Total Bins 1577\n",
      "[LightGBM] [Info] Number of data points in the train set: 7200, number of used features: 17\n",
      "[LightGBM] [Info] [binary:BoostFromScore]: pavg=0.201250 -> initscore=-1.378500\n",
      "[LightGBM] [Info] Start training from score -1.378500\n",
      "[LightGBM] [Info] Number of positive: 1449, number of negative: 5751\n",
      "[LightGBM] [Info] Auto-choosing col-wise multi-threading, the overhead of testing was 0.002145 seconds.\n",
      "You can set `force_col_wise=true` to remove the overhead.\n",
      "[LightGBM] [Info] Total Bins 1578\n",
      "[LightGBM] [Info] Number of data points in the train set: 7200, number of used features: 17\n",
      "[LightGBM] [Info] [binary:BoostFromScore]: pavg=0.201250 -> initscore=-1.378500\n",
      "[LightGBM] [Info] Start training from score -1.378500\n",
      "[LightGBM] [Info] Number of positive: 1449, number of negative: 5751\n",
      "[LightGBM] [Info] Auto-choosing row-wise multi-threading, the overhead of testing was 0.000614 seconds.\n",
      "You can set `force_row_wise=true` to remove the overhead.\n",
      "And if memory is not enough, you can set `force_col_wise=true`.\n",
      "[LightGBM] [Info] Total Bins 1577\n",
      "[LightGBM] [Info] Number of data points in the train set: 7200, number of used features: 17\n",
      "[LightGBM] [Info] [binary:BoostFromScore]: pavg=0.201250 -> initscore=-1.378500\n",
      "[LightGBM] [Info] Start training from score -1.378500\n",
      "[LightGBM] [Info] Number of positive: 1449, number of negative: 5751\n",
      "[LightGBM] [Info] Auto-choosing row-wise multi-threading, the overhead of testing was 0.001550 seconds.\n",
      "You can set `force_row_wise=true` to remove the overhead.\n",
      "And if memory is not enough, you can set `force_col_wise=true`.\n",
      "[LightGBM] [Info] Total Bins 1577\n",
      "[LightGBM] [Info] Number of data points in the train set: 7200, number of used features: 17\n",
      "[LightGBM] [Info] [binary:BoostFromScore]: pavg=0.201250 -> initscore=-1.378500\n",
      "[LightGBM] [Info] Start training from score -1.378500\n",
      "[LightGBM] [Info] Number of positive: 1449, number of negative: 5751\n",
      "[LightGBM] [Info] Auto-choosing row-wise multi-threading, the overhead of testing was 0.000453 seconds.\n",
      "You can set `force_row_wise=true` to remove the overhead.\n",
      "And if memory is not enough, you can set `force_col_wise=true`.\n",
      "[LightGBM] [Info] Total Bins 1577\n",
      "[LightGBM] [Info] Number of data points in the train set: 7200, number of used features: 17\n",
      "[LightGBM] [Info] [binary:BoostFromScore]: pavg=0.201250 -> initscore=-1.378500\n",
      "[LightGBM] [Info] Start training from score -1.378500\n",
      "[LightGBM] [Info] Number of positive: 1449, number of negative: 5751\n",
      "[LightGBM] [Info] Auto-choosing row-wise multi-threading, the overhead of testing was 0.000453 seconds.\n",
      "You can set `force_row_wise=true` to remove the overhead.\n",
      "And if memory is not enough, you can set `force_col_wise=true`.\n",
      "[LightGBM] [Info] Total Bins 1577\n",
      "[LightGBM] [Info] Number of data points in the train set: 7200, number of used features: 17\n",
      "[LightGBM] [Info] [binary:BoostFromScore]: pavg=0.201250 -> initscore=-1.378500\n",
      "[LightGBM] [Info] Start training from score -1.378500\n",
      "[LightGBM] [Info] Number of positive: 1449, number of negative: 5751\n",
      "[LightGBM] [Info] Auto-choosing col-wise multi-threading, the overhead of testing was 0.001259 seconds.\n",
      "You can set `force_col_wise=true` to remove the overhead.\n",
      "[LightGBM] [Info] Total Bins 1576\n",
      "[LightGBM] [Info] Number of data points in the train set: 7200, number of used features: 17\n",
      "[LightGBM] [Info] [binary:BoostFromScore]: pavg=0.201250 -> initscore=-1.378500\n",
      "[LightGBM] [Info] Start training from score -1.378500\n",
      "[LightGBM] [Info] Number of positive: 1449, number of negative: 5751\n",
      "[LightGBM] [Info] Auto-choosing row-wise multi-threading, the overhead of testing was 0.000442 seconds.\n",
      "You can set `force_row_wise=true` to remove the overhead.\n",
      "And if memory is not enough, you can set `force_col_wise=true`.\n",
      "[LightGBM] [Info] Total Bins 1579\n",
      "[LightGBM] [Info] Number of data points in the train set: 7200, number of used features: 17\n",
      "[LightGBM] [Info] [binary:BoostFromScore]: pavg=0.201250 -> initscore=-1.378500\n",
      "[LightGBM] [Info] Start training from score -1.378500\n",
      "0.85775\n",
      "0.858\n",
      "              precision    recall  f1-score   support\n",
      "\n",
      "           0       0.87      0.96      0.91      1573\n",
      "           1       0.78      0.47      0.58       427\n",
      "\n",
      "    accuracy                           0.86      2000\n",
      "   macro avg       0.82      0.72      0.75      2000\n",
      "weighted avg       0.85      0.86      0.84      2000\n",
      "\n"
     ]
    }
   ],
   "source": [
    "# lgbm model kurulumu\n",
    "lgbm_model=LGBMClassifier().fit(X_train,y_train)\n",
    "y_pred = lgbm_model.predict(X_test)\n",
    "\n",
    "# validasyon hatası, accuracy skoru, confusion matrix\n",
    "cv_results = cross_val_score(lgbm_model, X_train, y_train, cv = 10, scoring= \"accuracy\")\n",
    "\n",
    "print(cv_results.mean())\n",
    "print(accuracy_score(y_test, y_pred))\n",
    "print(classification_report(y_test, y_pred))"
   ]
  },
  {
   "cell_type": "markdown",
   "metadata": {},
   "source": [
    "MODEL TUNING\n",
    "Denemeler yaptım. Yukarıda en iyi sonuç aldığım LGBM modeli için hiperparametrelerle oynadım ancak default değerlerinden daha iyi bir model oluşturamadım."
   ]
  },
  {
   "cell_type": "markdown",
   "metadata": {},
   "source": [
    "DENGESİZ VERİ SETİ: SMOTE\n",
    "\n",
    "%20-80'lik veri seti için varolan dengesizliği oversamling yöntemi ile giderdim."
   ]
  },
  {
   "cell_type": "code",
   "execution_count": 63,
   "metadata": {},
   "outputs": [
    {
     "name": "stdout",
     "output_type": "stream",
     "text": [
      "Yeniden örneklenmiş verinin şekli  Counter({1: 7963, 0: 7963})\n"
     ]
    }
   ],
   "source": [
    "from imblearn.over_sampling import SMOTE\n",
    "from collections import Counter\n",
    "\n",
    "# SMOTE ile aşırı örnekleme (oversampling) yapma\n",
    "smt = SMOTE(random_state=12345)\n",
    "X_res, y_res = smt.fit_resample(X, y)\n",
    "\n",
    "\n",
    "print('Yeniden örneklenmiş verinin şekli  {}'.format(Counter(y_res)))"
   ]
  },
  {
   "cell_type": "markdown",
   "metadata": {},
   "source": [
    "LGBM"
   ]
  },
  {
   "cell_type": "code",
   "execution_count": 64,
   "metadata": {},
   "outputs": [
    {
     "name": "stdout",
     "output_type": "stream",
     "text": [
      "[LightGBM] [Info] Number of positive: 6324, number of negative: 6416\n",
      "[LightGBM] [Info] Auto-choosing col-wise multi-threading, the overhead of testing was 0.002337 seconds.\n",
      "You can set `force_col_wise=true` to remove the overhead.\n",
      "[LightGBM] [Info] Total Bins 2658\n",
      "[LightGBM] [Info] Number of data points in the train set: 12740, number of used features: 18\n",
      "[LightGBM] [Info] [binary:BoostFromScore]: pavg=0.496389 -> initscore=-0.014443\n",
      "[LightGBM] [Info] Start training from score -0.014443\n",
      "[LightGBM] [Info] Number of positive: 5692, number of negative: 5774\n",
      "[LightGBM] [Info] Auto-choosing row-wise multi-threading, the overhead of testing was 0.000872 seconds.\n",
      "You can set `force_row_wise=true` to remove the overhead.\n",
      "And if memory is not enough, you can set `force_col_wise=true`.\n",
      "[LightGBM] [Info] Total Bins 2651\n",
      "[LightGBM] [Info] Number of data points in the train set: 11466, number of used features: 18\n",
      "[LightGBM] [Info] [binary:BoostFromScore]: pavg=0.496424 -> initscore=-0.014303\n",
      "[LightGBM] [Info] Start training from score -0.014303\n",
      "[LightGBM] [Info] Number of positive: 5692, number of negative: 5774\n",
      "[LightGBM] [Info] Auto-choosing row-wise multi-threading, the overhead of testing was 0.000446 seconds.\n",
      "You can set `force_row_wise=true` to remove the overhead.\n",
      "And if memory is not enough, you can set `force_col_wise=true`.\n",
      "[LightGBM] [Info] Total Bins 2648\n",
      "[LightGBM] [Info] Number of data points in the train set: 11466, number of used features: 18\n",
      "[LightGBM] [Info] [binary:BoostFromScore]: pavg=0.496424 -> initscore=-0.014303\n",
      "[LightGBM] [Info] Start training from score -0.014303\n",
      "[LightGBM] [Info] Number of positive: 5692, number of negative: 5774\n",
      "[LightGBM] [Info] Auto-choosing row-wise multi-threading, the overhead of testing was 0.000634 seconds.\n",
      "You can set `force_row_wise=true` to remove the overhead.\n",
      "And if memory is not enough, you can set `force_col_wise=true`.\n",
      "[LightGBM] [Info] Total Bins 2646\n",
      "[LightGBM] [Info] Number of data points in the train set: 11466, number of used features: 18\n",
      "[LightGBM] [Info] [binary:BoostFromScore]: pavg=0.496424 -> initscore=-0.014303\n",
      "[LightGBM] [Info] Start training from score -0.014303\n",
      "[LightGBM] [Info] Number of positive: 5692, number of negative: 5774\n",
      "[LightGBM] [Info] Auto-choosing col-wise multi-threading, the overhead of testing was 0.002344 seconds.\n",
      "You can set `force_col_wise=true` to remove the overhead.\n",
      "[LightGBM] [Info] Total Bins 2650\n",
      "[LightGBM] [Info] Number of data points in the train set: 11466, number of used features: 18\n",
      "[LightGBM] [Info] [binary:BoostFromScore]: pavg=0.496424 -> initscore=-0.014303\n",
      "[LightGBM] [Info] Start training from score -0.014303\n",
      "[LightGBM] [Info] Number of positive: 5692, number of negative: 5774\n",
      "[LightGBM] [Info] Auto-choosing col-wise multi-threading, the overhead of testing was 0.002230 seconds.\n",
      "You can set `force_col_wise=true` to remove the overhead.\n",
      "[LightGBM] [Info] Total Bins 2648\n",
      "[LightGBM] [Info] Number of data points in the train set: 11466, number of used features: 18\n",
      "[LightGBM] [Info] [binary:BoostFromScore]: pavg=0.496424 -> initscore=-0.014303\n",
      "[LightGBM] [Info] Start training from score -0.014303\n",
      "[LightGBM] [Info] Number of positive: 5692, number of negative: 5774\n",
      "[LightGBM] [Info] Auto-choosing row-wise multi-threading, the overhead of testing was 0.000734 seconds.\n",
      "You can set `force_row_wise=true` to remove the overhead.\n",
      "And if memory is not enough, you can set `force_col_wise=true`.\n",
      "[LightGBM] [Info] Total Bins 2649\n",
      "[LightGBM] [Info] Number of data points in the train set: 11466, number of used features: 18\n",
      "[LightGBM] [Info] [binary:BoostFromScore]: pavg=0.496424 -> initscore=-0.014303\n",
      "[LightGBM] [Info] Start training from score -0.014303\n",
      "[LightGBM] [Info] Number of positive: 5691, number of negative: 5775\n",
      "[LightGBM] [Info] Auto-choosing row-wise multi-threading, the overhead of testing was 0.001004 seconds.\n",
      "You can set `force_row_wise=true` to remove the overhead.\n",
      "And if memory is not enough, you can set `force_col_wise=true`.\n",
      "[LightGBM] [Info] Total Bins 2651\n",
      "[LightGBM] [Info] Number of data points in the train set: 11466, number of used features: 18\n",
      "[LightGBM] [Info] [binary:BoostFromScore]: pavg=0.496337 -> initscore=-0.014652\n",
      "[LightGBM] [Info] Start training from score -0.014652\n",
      "[LightGBM] [Info] Number of positive: 5691, number of negative: 5775\n",
      "[LightGBM] [Info] Auto-choosing col-wise multi-threading, the overhead of testing was 0.004443 seconds.\n",
      "You can set `force_col_wise=true` to remove the overhead.\n",
      "[LightGBM] [Info] Total Bins 2648\n",
      "[LightGBM] [Info] Number of data points in the train set: 11466, number of used features: 18\n",
      "[LightGBM] [Info] [binary:BoostFromScore]: pavg=0.496337 -> initscore=-0.014652\n",
      "[LightGBM] [Info] Start training from score -0.014652\n",
      "[LightGBM] [Info] Number of positive: 5691, number of negative: 5775\n",
      "[LightGBM] [Info] Auto-choosing row-wise multi-threading, the overhead of testing was 0.000576 seconds.\n",
      "You can set `force_row_wise=true` to remove the overhead.\n",
      "And if memory is not enough, you can set `force_col_wise=true`.\n",
      "[LightGBM] [Info] Total Bins 2651\n",
      "[LightGBM] [Info] Number of data points in the train set: 11466, number of used features: 18\n",
      "[LightGBM] [Info] [binary:BoostFromScore]: pavg=0.496337 -> initscore=-0.014652\n",
      "[LightGBM] [Info] Start training from score -0.014652\n",
      "[LightGBM] [Info] Number of positive: 5691, number of negative: 5775\n",
      "[LightGBM] [Info] Auto-choosing col-wise multi-threading, the overhead of testing was 0.001963 seconds.\n",
      "You can set `force_col_wise=true` to remove the overhead.\n",
      "[LightGBM] [Info] Total Bins 2650\n",
      "[LightGBM] [Info] Number of data points in the train set: 11466, number of used features: 18\n",
      "[LightGBM] [Info] [binary:BoostFromScore]: pavg=0.496337 -> initscore=-0.014652\n",
      "[LightGBM] [Info] Start training from score -0.014652\n",
      "[LightGBM] [Info] Number of positive: 1475, number of negative: 1392\n",
      "[LightGBM] [Info] Auto-choosing col-wise multi-threading, the overhead of testing was 0.000755 seconds.\n",
      "You can set `force_col_wise=true` to remove the overhead.\n",
      "[LightGBM] [Info] Total Bins 2208\n",
      "[LightGBM] [Info] Number of data points in the train set: 2867, number of used features: 17\n",
      "[LightGBM] [Info] [binary:BoostFromScore]: pavg=0.514475 -> initscore=0.057916\n",
      "[LightGBM] [Info] Start training from score 0.057916\n",
      "[LightGBM] [Info] Number of positive: 1475, number of negative: 1392\n",
      "[LightGBM] [Info] Auto-choosing col-wise multi-threading, the overhead of testing was 0.000750 seconds.\n",
      "You can set `force_col_wise=true` to remove the overhead.\n",
      "[LightGBM] [Info] Total Bins 2212\n",
      "[LightGBM] [Info] Number of data points in the train set: 2867, number of used features: 17\n",
      "[LightGBM] [Info] [binary:BoostFromScore]: pavg=0.514475 -> initscore=0.057916\n",
      "[LightGBM] [Info] Start training from score 0.057916\n",
      "[LightGBM] [Info] Number of positive: 1475, number of negative: 1392\n",
      "[LightGBM] [Info] Auto-choosing col-wise multi-threading, the overhead of testing was 0.000992 seconds.\n",
      "You can set `force_col_wise=true` to remove the overhead.\n",
      "[LightGBM] [Info] Total Bins 2214\n",
      "[LightGBM] [Info] Number of data points in the train set: 2867, number of used features: 17\n",
      "[LightGBM] [Info] [binary:BoostFromScore]: pavg=0.514475 -> initscore=0.057916\n",
      "[LightGBM] [Info] Start training from score 0.057916\n",
      "[LightGBM] [Info] Number of positive: 1475, number of negative: 1392\n",
      "[LightGBM] [Info] Auto-choosing col-wise multi-threading, the overhead of testing was 0.001042 seconds.\n",
      "You can set `force_col_wise=true` to remove the overhead.\n",
      "[LightGBM] [Info] Total Bins 2212\n",
      "[LightGBM] [Info] Number of data points in the train set: 2867, number of used features: 17\n",
      "[LightGBM] [Info] [binary:BoostFromScore]: pavg=0.514475 -> initscore=0.057916\n",
      "[LightGBM] [Info] Start training from score 0.057916\n",
      "[LightGBM] [Info] Number of positive: 1475, number of negative: 1392\n",
      "[LightGBM] [Info] Auto-choosing col-wise multi-threading, the overhead of testing was 0.000900 seconds.\n",
      "You can set `force_col_wise=true` to remove the overhead.\n",
      "[LightGBM] [Info] Total Bins 2208\n",
      "[LightGBM] [Info] Number of data points in the train set: 2867, number of used features: 17\n",
      "[LightGBM] [Info] [binary:BoostFromScore]: pavg=0.514475 -> initscore=0.057916\n",
      "[LightGBM] [Info] Start training from score 0.057916\n",
      "[LightGBM] [Info] Number of positive: 1475, number of negative: 1392\n",
      "[LightGBM] [Info] Auto-choosing col-wise multi-threading, the overhead of testing was 0.001157 seconds.\n",
      "You can set `force_col_wise=true` to remove the overhead.\n",
      "[LightGBM] [Info] Total Bins 2210\n",
      "[LightGBM] [Info] Number of data points in the train set: 2867, number of used features: 17\n",
      "[LightGBM] [Info] [binary:BoostFromScore]: pavg=0.514475 -> initscore=0.057916\n",
      "[LightGBM] [Info] Start training from score 0.057916\n",
      "[LightGBM] [Info] Number of positive: 1475, number of negative: 1393\n",
      "[LightGBM] [Info] Auto-choosing col-wise multi-threading, the overhead of testing was 0.001006 seconds.\n",
      "You can set `force_col_wise=true` to remove the overhead.\n",
      "[LightGBM] [Info] Total Bins 2216\n",
      "[LightGBM] [Info] Number of data points in the train set: 2868, number of used features: 17\n",
      "[LightGBM] [Info] [binary:BoostFromScore]: pavg=0.514296 -> initscore=0.057198\n",
      "[LightGBM] [Info] Start training from score 0.057198\n",
      "[LightGBM] [Info] Number of positive: 1475, number of negative: 1393\n",
      "[LightGBM] [Info] Auto-choosing col-wise multi-threading, the overhead of testing was 0.001206 seconds.\n",
      "You can set `force_col_wise=true` to remove the overhead.\n",
      "[LightGBM] [Info] Total Bins 2218\n",
      "[LightGBM] [Info] Number of data points in the train set: 2868, number of used features: 17\n",
      "[LightGBM] [Info] [binary:BoostFromScore]: pavg=0.514296 -> initscore=0.057198\n",
      "[LightGBM] [Info] Start training from score 0.057198\n",
      "[LightGBM] [Info] Number of positive: 1475, number of negative: 1393\n",
      "[LightGBM] [Info] Auto-choosing col-wise multi-threading, the overhead of testing was 0.000823 seconds.\n",
      "You can set `force_col_wise=true` to remove the overhead.\n",
      "[LightGBM] [Info] Total Bins 2214\n",
      "[LightGBM] [Info] Number of data points in the train set: 2868, number of used features: 17\n",
      "[LightGBM] [Info] [binary:BoostFromScore]: pavg=0.514296 -> initscore=0.057198\n",
      "[LightGBM] [Info] Start training from score 0.057198\n",
      "[LightGBM] [Info] Number of positive: 1476, number of negative: 1392\n",
      "[LightGBM] [Info] Auto-choosing col-wise multi-threading, the overhead of testing was 0.000901 seconds.\n",
      "You can set `force_col_wise=true` to remove the overhead.\n",
      "[LightGBM] [Info] Total Bins 2213\n",
      "[LightGBM] [Info] Number of data points in the train set: 2868, number of used features: 17\n",
      "[LightGBM] [Info] [binary:BoostFromScore]: pavg=0.514644 -> initscore=0.058594\n",
      "[LightGBM] [Info] Start training from score 0.058594\n",
      "cross_val_score(test): 0.8574860511425249\n",
      "cross_val_score(train): 0.8574860511425249\n",
      "accuracy_score(train): 0.926138147566719\n",
      "accuracy_score(test): 0.8945386064030132\n",
      "              precision    recall  f1-score   support\n",
      "\n",
      "           0       0.87      0.92      0.89      1547\n",
      "           1       0.92      0.87      0.89      1639\n",
      "\n",
      "    accuracy                           0.89      3186\n",
      "   macro avg       0.90      0.90      0.89      3186\n",
      "weighted avg       0.90      0.89      0.89      3186\n",
      "\n"
     ]
    }
   ],
   "source": [
    "from IPython.core.interactiveshell import InteractiveShell\n",
    "InteractiveShell.ast_node_interactivity = \"all\"\n",
    "\n",
    "#split işlemi\n",
    "X_train, X_test, y_train, y_test = train_test_split(X_res, y_res, \n",
    "                                                    test_size=0.20, \n",
    "                                                    random_state=12345)\n",
    "\n",
    "# lgbm model kurulumu\n",
    "lgbm_model=LGBMClassifier(random_state=12345).fit(X_train,y_train)\n",
    "y_pred = lgbm_model.predict(X_test)\n",
    "\n",
    "\n",
    "# validasyon hatası, accuracy skoru, confusion matrix\n",
    "cv_results = cross_val_score(lgbm_model, X_train,y_train, cv = 10, scoring= \"accuracy\")\n",
    "\n",
    "cv_results = cross_val_score(lgbm_model, X_test,y_test, cv = 10, scoring= \"accuracy\")\n",
    "print(\"cross_val_score(test):\", cv_results.mean())\n",
    "\n",
    "\n",
    "y_train_pred = lgbm_model.predict(X_train)\n",
    "print(\"cross_val_score(train):\", cv_results.mean())\n",
    "print(\"accuracy_score(train):\",accuracy_score(y_train, y_train_pred))\n",
    "print(\"accuracy_score(test):\",accuracy_score(y_test, y_pred))\n",
    "print(classification_report(y_test, y_pred))\n",
    "\n"
   ]
  },
  {
   "cell_type": "code",
   "execution_count": 65,
   "metadata": {},
   "outputs": [
    {
     "name": "stdout",
     "output_type": "stream",
     "text": [
      "[[1420  127]\n",
      " [ 209 1430]]\n"
     ]
    },
    {
     "data": {
      "image/png": "[encoded data removed]",
      "text/plain": [
       "<Figure size 640x480 with 2 Axes>"
      ]
     },
     "metadata": {},
     "output_type": "display_data"
    }
   ],
   "source": [
    "cf_matrix = confusion_matrix(y_test, y_pred)\n",
    "print(cf_matrix)\n",
    "sns.heatmap(cf_matrix/np.sum(cf_matrix), annot=True, \n",
    "            fmt='.2%', cmap='Blues');"
   ]
  },
  {
   "cell_type": "markdown",
   "metadata": {},
   "source": [
    "REPORT"
   ]
  },
  {
   "cell_type": "markdown",
   "metadata": {},
   "source": [
    "Doğru tahmin edilenler --> %89.42 (3186 tahminden 2849 tanesi doğru)¶\n",
    "#### True Negative --> %44.57 --> Churn olmayacağı tahmin edilmiş ve churn olmamış.\n",
    "#### True Positive --> %44.88 --> Churn olacağı tahmin edilmiş ve churn olmuş.\n",
    "Yanlış tahmin edilenler --> %10.58 (3186 tahminden 337 tanesi yanlış)\n",
    "#### False Positive --> %3.99 --> Churn olacağı tahmin edilmemiş ama churn olmamış.\n",
    "#### False Negative --> %6.56 --> Churn olmayacağı tahmin edilmiş ama churn olmuş.\n",
    "Churn olmayanlar:\n",
    "1547--> 0 (Gerçekte test veri setinde),\n",
    "1628-->0 (Test veri seti için tahmin edilen)\n",
    "Churn olanlar:\n",
    "1639--> 1 (Gerçekte test veri setinde),\n",
    "1558-->1 (Test veri seti için tahmin edilen)"
   ]
  }
 ],
 "metadata": {
  "kernelspec": {
   "display_name": "Python 3",
   "language": "python",
   "name": "python3"
  },
  "language_info": {
   "codemirror_mode": {
    "name": "ipython",
    "version": 3
   },
   "file_extension": ".py",
   "mimetype": "text/x-python",
   "name": "python",
   "nbconvert_exporter": "python",
   "pygments_lexer": "ipython3",
   "version": "3.11.1"
  }
 },
 "nbformat": 4,
 "nbformat_minor": 2
}
